{
 "cells": [
  {
   "cell_type": "markdown",
   "metadata": {},
   "source": [
    "![image](https://github.com/eWaterCycle/ewatercycle/raw/main/docs/examples/logo.png)"
   ]
  },
  {
   "cell_type": "markdown",
   "metadata": {},
   "source": [
    "# Running SFINCS model using eWaterCycle package\n",
    "\n",
    "This notebook shows how to run [SFINCS](https://github.com/Deltares/SFINCS) model using a demo use-case."
   ]
  },
  {
   "cell_type": "code",
   "execution_count": 1,
   "metadata": {},
   "outputs": [],
   "source": [
    "import warnings\n",
    "\n",
    "warnings.filterwarnings(\"ignore\", category=UserWarning)"
   ]
  },
  {
   "cell_type": "code",
   "execution_count": 2,
   "metadata": {},
   "outputs": [
    {
     "name": "stderr",
     "output_type": "stream",
     "text": [
      "ERROR 1: PROJ: proj_create_from_database: Open of /home/stefanv/mambaforge/envs/ewatercycle/share/proj failed\n"
     ]
    }
   ],
   "source": [
    "import pandas as pd\n",
    "from rich import print\n",
    "\n",
    "import ewatercycle.models\n",
    "import ewatercycle.parameter_sets"
   ]
  },
  {
   "cell_type": "markdown",
   "metadata": {},
   "source": [
    "Lets use the example parameter set in https://github.com/Deltares/hydromt_sfincs/tree/main/examples/sfincs_compound"
   ]
  },
  {
   "cell_type": "code",
   "execution_count": 3,
   "metadata": {},
   "outputs": [
    {
     "name": "stdout",
     "output_type": "stream",
     "text": [
      "fatal: destination path 'hydromt_sfincs' already exists and is not an empty directory.\n"
     ]
    }
   ],
   "source": [
    "!git clone https://github.com/Deltares/hydromt_sfincs/\n",
    "parameter_set_dir = 'hydromt_sfincs/examples/sfincs_compound'"
   ]
  },
  {
   "cell_type": "code",
   "execution_count": 4,
   "metadata": {},
   "outputs": [
    {
     "data": {
      "text/html": [
       "<pre style=\"white-space:pre;overflow-x:auto;line-height:normal;font-family:Menlo,'DejaVu Sans Mono',consolas,'Courier New',monospace\"><span style=\"color: #800080; text-decoration-color: #800080; font-weight: bold\">ParameterSet</span><span style=\"font-weight: bold\">(</span>\n",
       "    <span style=\"color: #808000; text-decoration-color: #808000\">name</span>=<span style=\"color: #008000; text-decoration-color: #008000\">'sfincs_compound'</span>,\n",
       "    <span style=\"color: #808000; text-decoration-color: #808000\">directory</span>=<span style=\"color: #800080; text-decoration-color: #800080; font-weight: bold\">PosixPath</span><span style=\"font-weight: bold\">(</span><span style=\"color: #008000; text-decoration-color: #008000\">'hydromt_sfincs/examples/sfincs_compound'</span><span style=\"font-weight: bold\">)</span>,\n",
       "    <span style=\"color: #808000; text-decoration-color: #808000\">config</span>=<span style=\"color: #800080; text-decoration-color: #800080; font-weight: bold\">PosixPath</span><span style=\"font-weight: bold\">(</span><span style=\"color: #008000; text-decoration-color: #008000\">'hydromt_sfincs/examples/sfincs_compound/sfincs.inp'</span><span style=\"font-weight: bold\">)</span>,\n",
       "    <span style=\"color: #808000; text-decoration-color: #808000\">doi</span>=<span style=\"color: #008000; text-decoration-color: #008000\">'N/A'</span>,\n",
       "    <span style=\"color: #808000; text-decoration-color: #808000\">target_model</span>=<span style=\"color: #008000; text-decoration-color: #008000\">'sfincs'</span>,\n",
       "    <span style=\"color: #808000; text-decoration-color: #808000\">supported_model_versions</span>=<span style=\"color: #800080; text-decoration-color: #800080; font-weight: bold\">set</span><span style=\"font-weight: bold\">()</span>,\n",
       "    <span style=\"color: #808000; text-decoration-color: #808000\">downloader</span>=<span style=\"color: #800080; text-decoration-color: #800080; font-style: italic\">None</span>\n",
       "<span style=\"font-weight: bold\">)</span>\n",
       "</pre>\n"
      ],
      "text/plain": [
       "\u001b[1;35mParameterSet\u001b[0m\u001b[1m(\u001b[0m\n",
       "    \u001b[33mname\u001b[0m=\u001b[32m'sfincs_compound'\u001b[0m,\n",
       "    \u001b[33mdirectory\u001b[0m=\u001b[1;35mPosixPath\u001b[0m\u001b[1m(\u001b[0m\u001b[32m'hydromt_sfincs/examples/sfincs_compound'\u001b[0m\u001b[1m)\u001b[0m,\n",
       "    \u001b[33mconfig\u001b[0m=\u001b[1;35mPosixPath\u001b[0m\u001b[1m(\u001b[0m\u001b[32m'hydromt_sfincs/examples/sfincs_compound/sfincs.inp'\u001b[0m\u001b[1m)\u001b[0m,\n",
       "    \u001b[33mdoi\u001b[0m=\u001b[32m'N/A'\u001b[0m,\n",
       "    \u001b[33mtarget_model\u001b[0m=\u001b[32m'sfincs'\u001b[0m,\n",
       "    \u001b[33msupported_model_versions\u001b[0m=\u001b[1;35mset\u001b[0m\u001b[1m(\u001b[0m\u001b[1m)\u001b[0m,\n",
       "    \u001b[33mdownloader\u001b[0m=\u001b[3;35mNone\u001b[0m\n",
       "\u001b[1m)\u001b[0m\n"
      ]
     },
     "metadata": {},
     "output_type": "display_data"
    }
   ],
   "source": [
    "parameter_set = ewatercycle.parameter_sets.ParameterSet(\n",
    "    name=\"sfincs_compound\",\n",
    "    directory=parameter_set_dir,\n",
    "    config=parameter_set_dir + \"/sfincs.inp\",\n",
    "    target_model=\"sfincs\",\n",
    ")\n",
    "print(parameter_set)\n"
   ]
  },
  {
   "cell_type": "markdown",
   "metadata": {},
   "source": [
    "## Setting up the model\n"
   ]
  },
  {
   "cell_type": "markdown",
   "metadata": {},
   "source": [
    "Note that the model version and the parameterset versions should be compatible."
   ]
  },
  {
   "cell_type": "code",
   "execution_count": 5,
   "metadata": {},
   "outputs": [
    {
     "data": {
      "text/html": [
       "<pre style=\"white-space:pre;overflow-x:auto;line-height:normal;font-family:Menlo,'DejaVu Sans Mono',consolas,'Courier New',monospace\"><span style=\"color: #800080; text-decoration-color: #800080; font-weight: bold\">Sfincs</span><span style=\"font-weight: bold\">(</span>\n",
       "    <span style=\"color: #808000; text-decoration-color: #808000\">parameter_set</span>=<span style=\"color: #800080; text-decoration-color: #800080; font-weight: bold\">ParameterSet</span><span style=\"font-weight: bold\">(</span>\n",
       "        <span style=\"color: #808000; text-decoration-color: #808000\">name</span>=<span style=\"color: #008000; text-decoration-color: #008000\">'sfincs_compound'</span>,\n",
       "        <span style=\"color: #808000; text-decoration-color: #808000\">directory</span>=<span style=\"color: #800080; text-decoration-color: #800080; font-weight: bold\">PosixPath</span><span style=\"font-weight: bold\">(</span><span style=\"color: #008000; text-decoration-color: #008000\">'hydromt_sfincs/examples/sfincs_compound'</span><span style=\"font-weight: bold\">)</span>,\n",
       "        <span style=\"color: #808000; text-decoration-color: #808000\">config</span>=<span style=\"color: #800080; text-decoration-color: #800080; font-weight: bold\">PosixPath</span><span style=\"font-weight: bold\">(</span><span style=\"color: #008000; text-decoration-color: #008000\">'hydromt_sfincs/examples/sfincs_compound/sfincs.inp'</span><span style=\"font-weight: bold\">)</span>,\n",
       "        <span style=\"color: #808000; text-decoration-color: #808000\">doi</span>=<span style=\"color: #008000; text-decoration-color: #008000\">'N/A'</span>,\n",
       "        <span style=\"color: #808000; text-decoration-color: #808000\">target_model</span>=<span style=\"color: #008000; text-decoration-color: #008000\">'sfincs'</span>,\n",
       "        <span style=\"color: #808000; text-decoration-color: #808000\">supported_model_versions</span>=<span style=\"color: #800080; text-decoration-color: #800080; font-weight: bold\">set</span><span style=\"font-weight: bold\">()</span>,\n",
       "        <span style=\"color: #808000; text-decoration-color: #808000\">downloader</span>=<span style=\"color: #800080; text-decoration-color: #800080; font-style: italic\">None</span>\n",
       "    <span style=\"font-weight: bold\">)</span>,\n",
       "    <span style=\"color: #808000; text-decoration-color: #808000\">forcing</span>=<span style=\"color: #800080; text-decoration-color: #800080; font-style: italic\">None</span>\n",
       "<span style=\"font-weight: bold\">)</span>\n",
       "</pre>\n"
      ],
      "text/plain": [
       "\u001b[1;35mSfincs\u001b[0m\u001b[1m(\u001b[0m\n",
       "    \u001b[33mparameter_set\u001b[0m=\u001b[1;35mParameterSet\u001b[0m\u001b[1m(\u001b[0m\n",
       "        \u001b[33mname\u001b[0m=\u001b[32m'sfincs_compound'\u001b[0m,\n",
       "        \u001b[33mdirectory\u001b[0m=\u001b[1;35mPosixPath\u001b[0m\u001b[1m(\u001b[0m\u001b[32m'hydromt_sfincs/examples/sfincs_compound'\u001b[0m\u001b[1m)\u001b[0m,\n",
       "        \u001b[33mconfig\u001b[0m=\u001b[1;35mPosixPath\u001b[0m\u001b[1m(\u001b[0m\u001b[32m'hydromt_sfincs/examples/sfincs_compound/sfincs.inp'\u001b[0m\u001b[1m)\u001b[0m,\n",
       "        \u001b[33mdoi\u001b[0m=\u001b[32m'N/A'\u001b[0m,\n",
       "        \u001b[33mtarget_model\u001b[0m=\u001b[32m'sfincs'\u001b[0m,\n",
       "        \u001b[33msupported_model_versions\u001b[0m=\u001b[1;35mset\u001b[0m\u001b[1m(\u001b[0m\u001b[1m)\u001b[0m,\n",
       "        \u001b[33mdownloader\u001b[0m=\u001b[3;35mNone\u001b[0m\n",
       "    \u001b[1m)\u001b[0m,\n",
       "    \u001b[33mforcing\u001b[0m=\u001b[3;35mNone\u001b[0m\n",
       "\u001b[1m)\u001b[0m\n"
      ]
     },
     "metadata": {},
     "output_type": "display_data"
    }
   ],
   "source": [
    "model = ewatercycle.models.Sfincs(parameter_set=parameter_set)\n",
    "print(model)"
   ]
  },
  {
   "cell_type": "code",
   "execution_count": 6,
   "metadata": {},
   "outputs": [
    {
     "data": {
      "text/plain": [
       "'sfincs-v2.0.2-blockhaus-release-q2-2023'"
      ]
     },
     "execution_count": 6,
     "metadata": {},
     "output_type": "execute_result"
    }
   ],
   "source": [
    "model.version"
   ]
  },
  {
   "cell_type": "markdown",
   "metadata": {},
   "source": [
    "eWaterCycle exposes a selected set of configurable parameters. These can be modified in the `setup()` method."
   ]
  },
  {
   "cell_type": "code",
   "execution_count": 7,
   "metadata": {},
   "outputs": [
    {
     "data": {
      "text/plain": [
       "dict_items([('start_time', '2010-02-01T00:00:00Z'), ('end_time', '2010-02-02T00:00:00Z')])"
      ]
     },
     "execution_count": 7,
     "metadata": {},
     "output_type": "execute_result"
    }
   ],
   "source": [
    "model.parameters"
   ]
  },
  {
   "cell_type": "markdown",
   "metadata": {},
   "source": [
    "Calling `setup()` will start up a container. "
   ]
  },
  {
   "cell_type": "code",
   "execution_count": 8,
   "metadata": {},
   "outputs": [
    {
     "name": "stdout",
     "output_type": "stream",
     "text": [
      "make bmi instance was called\n"
     ]
    },
    {
     "data": {
      "text/plain": [
       "('/home/stefanv/git/eWaterCycle/ewatercycle-sfincs/docs/sfincs_20231025_143325/sfincs.inp',\n",
       " '/home/stefanv/git/eWaterCycle/ewatercycle-sfincs/docs/sfincs_20231025_143325')"
      ]
     },
     "execution_count": 8,
     "metadata": {},
     "output_type": "execute_result"
    }
   ],
   "source": [
    "cfg_file, cfg_dir = model.setup()\n",
    "cfg_file, cfg_dir"
   ]
  },
  {
   "cell_type": "code",
   "execution_count": 9,
   "metadata": {},
   "outputs": [
    {
     "ename": "_InactiveRpcError",
     "evalue": "<_InactiveRpcError of RPC that terminated with:\n\tstatus = StatusCode.UNAVAILABLE\n\tdetails = \"Socket closed\"\n\tdebug_error_string = \"UNKNOWN:Error received from peer  {grpc_message:\"Socket closed\", grpc_status:14, created_time:\"2023-10-25T16:34:14.348744169+02:00\"}\"\n>",
     "output_type": "error",
     "traceback": [
      "\u001b[0;31m---------------------------------------------------------------------------\u001b[0m",
      "\u001b[0;31m_InactiveRpcError\u001b[0m                         Traceback (most recent call last)",
      "\u001b[1;32m/home/stefanv/git/eWaterCycle/ewatercycle-sfincs/docs/model.ipynb Cell 16\u001b[0m line \u001b[0;36m1\n\u001b[0;32m----> <a href='vscode-notebook-cell://wsl%2Bubuntu-22.04/home/stefanv/git/eWaterCycle/ewatercycle-sfincs/docs/model.ipynb#X34sdnNjb2RlLXJlbW90ZQ%3D%3D?line=0'>1</a>\u001b[0m model\u001b[39m.\u001b[39;49minitialize(cfg_file)\n",
      "File \u001b[0;32m~/git/eWaterCycle/ewatercycle/src/ewatercycle/base/model.py:168\u001b[0m, in \u001b[0;36meWaterCycleModel.initialize\u001b[0;34m(self, config_file)\u001b[0m\n\u001b[1;32m    162\u001b[0m \u001b[39mdef\u001b[39;00m \u001b[39minitialize\u001b[39m(\u001b[39mself\u001b[39m, config_file: \u001b[39mstr\u001b[39m) \u001b[39m-\u001b[39m\u001b[39m>\u001b[39m \u001b[39mNone\u001b[39;00m:\n\u001b[1;32m    163\u001b[0m \u001b[39m    \u001b[39m\u001b[39m\"\"\"Initialize the model.\u001b[39;00m\n\u001b[1;32m    164\u001b[0m \n\u001b[1;32m    165\u001b[0m \u001b[39m    Args:\u001b[39;00m\n\u001b[1;32m    166\u001b[0m \u001b[39m        config_file: Name of initialization file.\u001b[39;00m\n\u001b[1;32m    167\u001b[0m \u001b[39m    \"\"\"\u001b[39;00m\n\u001b[0;32m--> 168\u001b[0m     \u001b[39mself\u001b[39;49m\u001b[39m.\u001b[39;49m_bmi\u001b[39m.\u001b[39;49minitialize(config_file)\n",
      "File \u001b[0;32m~/git/eWaterCycle/grpc4bmi/grpc4bmi/bmi_optionaldest.py:49\u001b[0m, in \u001b[0;36mOptionalDestBmi.initialize\u001b[0;34m(self, config_file)\u001b[0m\n\u001b[1;32m     48\u001b[0m \u001b[39mdef\u001b[39;00m \u001b[39minitialize\u001b[39m(\u001b[39mself\u001b[39m, config_file: Optional[\u001b[39mstr\u001b[39m]) \u001b[39m-\u001b[39m\u001b[39m>\u001b[39m \u001b[39mNone\u001b[39;00m:\n\u001b[0;32m---> 49\u001b[0m     \u001b[39mreturn\u001b[39;00m \u001b[39mself\u001b[39;49m\u001b[39m.\u001b[39;49morigin\u001b[39m.\u001b[39;49minitialize(config_file)\n",
      "File \u001b[0;32m~/git/eWaterCycle/grpc4bmi/grpc4bmi/bmi_memoized.py:57\u001b[0m, in \u001b[0;36mMemoizedBmi.initialize\u001b[0;34m(self, filename)\u001b[0m\n\u001b[1;32m     55\u001b[0m \u001b[39mdef\u001b[39;00m \u001b[39minitialize\u001b[39m(\u001b[39mself\u001b[39m, filename):\n\u001b[1;32m     56\u001b[0m     \u001b[39mself\u001b[39m\u001b[39m.\u001b[39mcache \u001b[39m=\u001b[39m \u001b[39mdict\u001b[39m()\n\u001b[0;32m---> 57\u001b[0m     \u001b[39mreturn\u001b[39;00m \u001b[39mself\u001b[39;49m\u001b[39m.\u001b[39;49morigin\u001b[39m.\u001b[39;49minitialize(filename)\n",
      "File \u001b[0;32m~/git/eWaterCycle/grpc4bmi/grpc4bmi/bmi_grpc_client.py:101\u001b[0m, in \u001b[0;36mBmiClient.initialize\u001b[0;34m(self, filename)\u001b[0m\n\u001b[1;32m     99\u001b[0m     \u001b[39mreturn\u001b[39;00m \u001b[39mself\u001b[39m\u001b[39m.\u001b[39mstub\u001b[39m.\u001b[39minitialize(bmi_pb2\u001b[39m.\u001b[39mInitializeRequest(config_file\u001b[39m=\u001b[39mfname))\n\u001b[1;32m    100\u001b[0m \u001b[39mexcept\u001b[39;00m grpc\u001b[39m.\u001b[39mRpcError \u001b[39mas\u001b[39;00m e:\n\u001b[0;32m--> 101\u001b[0m     handle_error(e)\n",
      "File \u001b[0;32m~/git/eWaterCycle/grpc4bmi/grpc4bmi/bmi_grpc_client.py:99\u001b[0m, in \u001b[0;36mBmiClient.initialize\u001b[0;34m(self, filename)\u001b[0m\n\u001b[1;32m     97\u001b[0m fname \u001b[39m=\u001b[39m \u001b[39m\"\u001b[39m\u001b[39m\"\u001b[39m \u001b[39mif\u001b[39;00m filename \u001b[39mis\u001b[39;00m \u001b[39mNone\u001b[39;00m \u001b[39melse\u001b[39;00m filename\n\u001b[1;32m     98\u001b[0m \u001b[39mtry\u001b[39;00m:\n\u001b[0;32m---> 99\u001b[0m     \u001b[39mreturn\u001b[39;00m \u001b[39mself\u001b[39;49m\u001b[39m.\u001b[39;49mstub\u001b[39m.\u001b[39;49minitialize(bmi_pb2\u001b[39m.\u001b[39;49mInitializeRequest(config_file\u001b[39m=\u001b[39;49mfname))\n\u001b[1;32m    100\u001b[0m \u001b[39mexcept\u001b[39;00m grpc\u001b[39m.\u001b[39mRpcError \u001b[39mas\u001b[39;00m e:\n\u001b[1;32m    101\u001b[0m     handle_error(e)\n",
      "File \u001b[0;32m~/mambaforge/envs/ewatercycle/lib/python3.10/site-packages/grpc/_channel.py:1161\u001b[0m, in \u001b[0;36m_UnaryUnaryMultiCallable.__call__\u001b[0;34m(self, request, timeout, metadata, credentials, wait_for_ready, compression)\u001b[0m\n\u001b[1;32m   1146\u001b[0m \u001b[39mdef\u001b[39;00m \u001b[39m__call__\u001b[39m(\n\u001b[1;32m   1147\u001b[0m     \u001b[39mself\u001b[39m,\n\u001b[1;32m   1148\u001b[0m     request: Any,\n\u001b[0;32m   (...)\u001b[0m\n\u001b[1;32m   1153\u001b[0m     compression: Optional[grpc\u001b[39m.\u001b[39mCompression] \u001b[39m=\u001b[39m \u001b[39mNone\u001b[39;00m,\n\u001b[1;32m   1154\u001b[0m ) \u001b[39m-\u001b[39m\u001b[39m>\u001b[39m Any:\n\u001b[1;32m   1155\u001b[0m     (\n\u001b[1;32m   1156\u001b[0m         state,\n\u001b[1;32m   1157\u001b[0m         call,\n\u001b[1;32m   1158\u001b[0m     ) \u001b[39m=\u001b[39m \u001b[39mself\u001b[39m\u001b[39m.\u001b[39m_blocking(\n\u001b[1;32m   1159\u001b[0m         request, timeout, metadata, credentials, wait_for_ready, compression\n\u001b[1;32m   1160\u001b[0m     )\n\u001b[0;32m-> 1161\u001b[0m     \u001b[39mreturn\u001b[39;00m _end_unary_response_blocking(state, call, \u001b[39mFalse\u001b[39;49;00m, \u001b[39mNone\u001b[39;49;00m)\n",
      "File \u001b[0;32m~/mambaforge/envs/ewatercycle/lib/python3.10/site-packages/grpc/_channel.py:1004\u001b[0m, in \u001b[0;36m_end_unary_response_blocking\u001b[0;34m(state, call, with_call, deadline)\u001b[0m\n\u001b[1;32m   1002\u001b[0m         \u001b[39mreturn\u001b[39;00m state\u001b[39m.\u001b[39mresponse\n\u001b[1;32m   1003\u001b[0m \u001b[39melse\u001b[39;00m:\n\u001b[0;32m-> 1004\u001b[0m     \u001b[39mraise\u001b[39;00m _InactiveRpcError(state)\n",
      "\u001b[0;31m_InactiveRpcError\u001b[0m: <_InactiveRpcError of RPC that terminated with:\n\tstatus = StatusCode.UNAVAILABLE\n\tdetails = \"Socket closed\"\n\tdebug_error_string = \"UNKNOWN:Error received from peer  {grpc_message:\"Socket closed\", grpc_status:14, created_time:\"2023-10-25T16:34:14.348744169+02:00\"}\"\n>"
     ]
    }
   ],
   "source": [
    "model.initialize(cfg_file)"
   ]
  },
  {
   "cell_type": "code",
   "execution_count": 18,
   "metadata": {},
   "outputs": [
    {
     "data": {
      "text/html": [
       "<pre style=\"white-space:pre;overflow-x:auto;line-height:normal;font-family:Menlo,'DejaVu Sans Mono',consolas,'Courier New',monospace\">BMI grpc server attached to server address <span style=\"color: #00ff00; text-decoration-color: #00ff00; font-weight: bold\">0.0.0.0</span>:<span style=\"color: #008080; text-decoration-color: #008080; font-weight: bold\">50051</span>\n",
       "\n",
       " ----------- Welcome to SFINCS -----------\n",
       "\n",
       "  @@@@@  @@@@@@@ @@ @@  @@   @@@@   @@@@@ \n",
       " @@@ @@@ @@@@@@@ @@ @@@ @@ @@@@@@@ @@@ @@@\n",
       " @@@     @@      @@ @@@ @@ @@   @@ @@@    \n",
       "  @@@@@  @@@@@@  @@ @@@@@@ @@       @@@@@ \n",
       "     @@@ @@      @@ @@ @@@ @@   @@     @@@\n",
       " @@@ @@@ @@      @@ @@  @@  @@@@@@ @@@ @@@\n",
       "  @@@@@  @@      @@ @@   @   @@@@   @@@@@ \n",
       "\n",
       "              <span style=\"color: #808000; text-decoration-color: #808000\">............</span>..              \n",
       "          <span style=\"color: #808000; text-decoration-color: #808000\">......</span>:@@@@@@@@:<span style=\"color: #808000; text-decoration-color: #808000\">......</span>          \n",
       "       ..::::..@@<span style=\"color: #808000; text-decoration-color: #808000\">......</span>..@@.:::::..       \n",
       "     ..:::::..@@..::..::..@@.::::::..     \n",
       "    .::::::..@@<span style=\"color: #808000; text-decoration-color: #808000\">............</span>@@.:::::::.    \n",
       "   .::::::..@@<span style=\"color: #808000; text-decoration-color: #808000\">............</span>..@@.:::::::.   \n",
       "  .::::::::..@@<span style=\"color: #808000; text-decoration-color: #808000\">............</span>@@..::::::::.  \n",
       " .:::::::::<span style=\"color: #808000; text-decoration-color: #808000\">...</span>@@.@..@@..@.@@..::::::::::. \n",
       " .:::::::::<span style=\"color: #808000; text-decoration-color: #808000\">...</span>:@@@..@@..@@@:..:::::::::.. \n",
       " <span style=\"color: #808000; text-decoration-color: #808000\">............</span>@@.@@..@@..@@.@@<span style=\"color: #808000; text-decoration-color: #808000\">............</span> \n",
       " ^^^~~^^~~^^@@<span style=\"color: #808000; text-decoration-color: #808000\">............</span>..@@^^^~^^^~~^^ \n",
       " .::::::::::@@<span style=\"color: #808000; text-decoration-color: #808000\">............</span>..@@.:::::::::. \n",
       "  <span style=\"color: #808000; text-decoration-color: #808000\">......</span>.:.@@<span style=\"color: #808000; text-decoration-color: #808000\">...</span>..@<span style=\"color: #808000; text-decoration-color: #808000\">...</span>..@<span style=\"color: #808000; text-decoration-color: #808000\">...</span>.@@.:<span style=\"color: #808000; text-decoration-color: #808000\">......</span>.  \n",
       "   .::<span style=\"color: #808000; text-decoration-color: #808000\">...</span>.@@<span style=\"color: #808000; text-decoration-color: #808000\">......</span>@.@@@.@<span style=\"color: #808000; text-decoration-color: #808000\">...</span>.@@<span style=\"color: #808000; text-decoration-color: #808000\">...</span>..::.   \n",
       "    .:::~@@.:<span style=\"color: #808000; text-decoration-color: #808000\">...</span>:.@@<span style=\"color: #808000; text-decoration-color: #808000\">...</span>@@.:.:.@@~::::.    \n",
       "     .::~@@@@@@@@@@<span style=\"color: #808000; text-decoration-color: #808000\">...</span>..@@@@@@@@@~::.     \n",
       "       ..:~~~~~~~:<span style=\"color: #808000; text-decoration-color: #808000\">......</span>.:~~~~~~~:..      \n",
       "          <span style=\"color: #808000; text-decoration-color: #808000\">.....................</span>.          \n",
       "              <span style=\"color: #808000; text-decoration-color: #808000\">............</span>..              \n",
       "\n",
       " -----------------------------------------\n",
       "\n",
       " Build-Revision: $Rev: v2.<span style=\"color: #008080; text-decoration-color: #008080; font-weight: bold\">0.2</span>-Blockhaus\n",
       " Build-Date:     $Date: <span style=\"color: #008080; text-decoration-color: #008080; font-weight: bold\">2023</span>-<span style=\"color: #008080; text-decoration-color: #008080; font-weight: bold\">06</span>-<span style=\"color: #008080; text-decoration-color: #008080; font-weight: bold\">09</span>\n",
       "\n",
       " Reading input file <span style=\"color: #808000; text-decoration-color: #808000\">...</span>\n",
       " Info : Running SFINCS in regular mode <span style=\"color: #808000; text-decoration-color: #808000\">...</span>\n",
       " Turning on process: Viscosity, with <span style=\"color: #808000; text-decoration-color: #808000\">nuvisc</span>=   <span style=\"color: #008080; text-decoration-color: #008080; font-weight: bold\">0.500000000</span>    \n",
       " Reading meteo data <span style=\"color: #808000; text-decoration-color: #808000\">...</span>\n",
       " Info : Preparing SFINCS grid on regular mesh <span style=\"color: #808000; text-decoration-color: #808000\">...</span>\n",
       " Reading sfincs.ind <span style=\"color: #808000; text-decoration-color: #808000\">...</span>\n",
       "At line <span style=\"color: #008080; text-decoration-color: #008080; font-weight: bold\">190</span> of file sfincs_domain.f90 <span style=\"font-weight: bold\">(</span>unit = <span style=\"color: #008080; text-decoration-color: #008080; font-weight: bold\">500</span>, file = <span style=\"color: #008000; text-decoration-color: #008000\">'sfincs.ind'</span><span style=\"font-weight: bold\">)</span>\n",
       "Fortran runtime error: End of file\n",
       "\n",
       "</pre>\n"
      ],
      "text/plain": [
       "BMI grpc server attached to server address \u001b[1;92m0.0.0.0\u001b[0m:\u001b[1;36m50051\u001b[0m\n",
       "\n",
       " ----------- Welcome to SFINCS -----------\n",
       "\n",
       "  @@@@@  @@@@@@@ @@ @@  @@   @@@@   @@@@@ \n",
       " @@@ @@@ @@@@@@@ @@ @@@ @@ @@@@@@@ @@@ @@@\n",
       " @@@     @@      @@ @@@ @@ @@   @@ @@@    \n",
       "  @@@@@  @@@@@@  @@ @@@@@@ @@       @@@@@ \n",
       "     @@@ @@      @@ @@ @@@ @@   @@     @@@\n",
       " @@@ @@@ @@      @@ @@  @@  @@@@@@ @@@ @@@\n",
       "  @@@@@  @@      @@ @@   @   @@@@   @@@@@ \n",
       "\n",
       "              \u001b[33m...\u001b[0m\u001b[33m...\u001b[0m\u001b[33m...\u001b[0m\u001b[33m...\u001b[0m..              \n",
       "          \u001b[33m...\u001b[0m\u001b[33m...\u001b[0m:@@@@@@@@:\u001b[33m...\u001b[0m\u001b[33m...\u001b[0m          \n",
       "       ..::::..@@\u001b[33m...\u001b[0m\u001b[33m...\u001b[0m..@@.:::::..       \n",
       "     ..:::::..@@..::..::..@@.::::::..     \n",
       "    .::::::..@@\u001b[33m...\u001b[0m\u001b[33m...\u001b[0m\u001b[33m...\u001b[0m\u001b[33m...\u001b[0m@@.:::::::.    \n",
       "   .::::::..@@\u001b[33m...\u001b[0m\u001b[33m...\u001b[0m\u001b[33m...\u001b[0m\u001b[33m...\u001b[0m..@@.:::::::.   \n",
       "  .::::::::..@@\u001b[33m...\u001b[0m\u001b[33m...\u001b[0m\u001b[33m...\u001b[0m\u001b[33m...\u001b[0m@@..::::::::.  \n",
       " .:::::::::\u001b[33m...\u001b[0m@@.@..@@..@.@@..::::::::::. \n",
       " .:::::::::\u001b[33m...\u001b[0m:@@@..@@..@@@:..:::::::::.. \n",
       " \u001b[33m...\u001b[0m\u001b[33m...\u001b[0m\u001b[33m...\u001b[0m\u001b[33m...\u001b[0m@@.@@..@@..@@.@@\u001b[33m...\u001b[0m\u001b[33m...\u001b[0m\u001b[33m...\u001b[0m\u001b[33m...\u001b[0m \n",
       " ^^^~~^^~~^^@@\u001b[33m...\u001b[0m\u001b[33m...\u001b[0m\u001b[33m...\u001b[0m\u001b[33m...\u001b[0m..@@^^^~^^^~~^^ \n",
       " .::::::::::@@\u001b[33m...\u001b[0m\u001b[33m...\u001b[0m\u001b[33m...\u001b[0m\u001b[33m...\u001b[0m..@@.:::::::::. \n",
       "  \u001b[33m...\u001b[0m\u001b[33m...\u001b[0m.:.@@\u001b[33m...\u001b[0m..@\u001b[33m...\u001b[0m..@\u001b[33m...\u001b[0m.@@.:\u001b[33m...\u001b[0m\u001b[33m...\u001b[0m.  \n",
       "   .::\u001b[33m...\u001b[0m.@@\u001b[33m...\u001b[0m\u001b[33m...\u001b[0m@.@@@.@\u001b[33m...\u001b[0m.@@\u001b[33m...\u001b[0m..::.   \n",
       "    .:::~@@.:\u001b[33m...\u001b[0m:.@@\u001b[33m...\u001b[0m@@.:.:.@@~::::.    \n",
       "     .::~@@@@@@@@@@\u001b[33m...\u001b[0m..@@@@@@@@@~::.     \n",
       "       ..:~~~~~~~:\u001b[33m...\u001b[0m\u001b[33m...\u001b[0m.:~~~~~~~:..      \n",
       "          \u001b[33m...\u001b[0m\u001b[33m...\u001b[0m\u001b[33m...\u001b[0m\u001b[33m...\u001b[0m\u001b[33m...\u001b[0m\u001b[33m...\u001b[0m\u001b[33m...\u001b[0m.          \n",
       "              \u001b[33m...\u001b[0m\u001b[33m...\u001b[0m\u001b[33m...\u001b[0m\u001b[33m...\u001b[0m..              \n",
       "\n",
       " -----------------------------------------\n",
       "\n",
       " Build-Revision: $Rev: v2.\u001b[1;36m0.2\u001b[0m-Blockhaus\n",
       " Build-Date:     $Date: \u001b[1;36m2023\u001b[0m-\u001b[1;36m06\u001b[0m-\u001b[1;36m09\u001b[0m\n",
       "\n",
       " Reading input file \u001b[33m...\u001b[0m\n",
       " Info : Running SFINCS in regular mode \u001b[33m...\u001b[0m\n",
       " Turning on process: Viscosity, with \u001b[33mnuvisc\u001b[0m=   \u001b[1;36m0.500000000\u001b[0m    \n",
       " Reading meteo data \u001b[33m...\u001b[0m\n",
       " Info : Preparing SFINCS grid on regular mesh \u001b[33m...\u001b[0m\n",
       " Reading sfincs.ind \u001b[33m...\u001b[0m\n",
       "At line \u001b[1;36m190\u001b[0m of file sfincs_domain.f90 \u001b[1m(\u001b[0munit = \u001b[1;36m500\u001b[0m, file = \u001b[32m'sfincs.ind'\u001b[0m\u001b[1m)\u001b[0m\n",
       "Fortran runtime error: End of file\n",
       "\n"
      ]
     },
     "metadata": {},
     "output_type": "display_data"
    }
   ],
   "source": [
    "b = model.bmi\n",
    "bcd = b.origin.origin\n",
    "print(bcd.logs())"
   ]
  },
  {
   "cell_type": "markdown",
   "metadata": {},
   "source": []
  }
 ],
 "metadata": {
  "kernelspec": {
   "display_name": "ewatercycle",
   "language": "python",
   "name": "python3"
  },
  "language_info": {
   "codemirror_mode": {
    "name": "ipython",
    "version": 3
   },
   "file_extension": ".py",
   "mimetype": "text/x-python",
   "name": "python",
   "nbconvert_exporter": "python",
   "pygments_lexer": "ipython3",
   "version": "3.10.11"
  }
 },
 "nbformat": 4,
 "nbformat_minor": 2
}
